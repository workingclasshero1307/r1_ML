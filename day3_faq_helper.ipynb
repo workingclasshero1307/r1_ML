{
  "nbformat": 4,
  "nbformat_minor": 0,
  "metadata": {
    "colab": {
      "provenance": [],
      "authorship_tag": "ABX9TyOi4QkYnqW8Rv4aie9q7njd",
      "include_colab_link": true
    },
    "kernelspec": {
      "name": "python3",
      "display_name": "Python 3"
    },
    "language_info": {
      "name": "python"
    }
  },
  "cells": [
    {
      "cell_type": "markdown",
      "metadata": {
        "id": "view-in-github",
        "colab_type": "text"
      },
      "source": [
        "<a href=\"https://colab.research.google.com/github/workingclasshero1307/r1_ML/blob/feature%2Fday3-update/day3_faq_helper.ipynb\" target=\"_parent\"><img src=\"https://colab.research.google.com/assets/colab-badge.svg\" alt=\"Open In Colab\"/></a>"
      ]
    },
    {
      "cell_type": "code",
      "execution_count": null,
      "metadata": {
        "id": "cbvAD8OVh3fm"
      },
      "outputs": [],
      "source": [
        "faq_data = {\n",
        "    \"How to open a Bank Account?\": \"Visit nearest branch\",\n",
        "    \"How to withdraw money?\": \"Visit nearest ATM\",\n",
        "    \"How to Transfer Money\": \"Use SCB App\"\n",
        "}"
      ]
    },
    {
      "cell_type": "code",
      "source": [
        "def list_faqs(faq_dict):\n",
        "  print(\"Available FAQ\")\n",
        "  for i, q in enumerate(faq_dict.keys(), start = 1):\n",
        "    print(f\"{i}. {q}\")"
      ],
      "metadata": {
        "id": "vkOgbpK4k0r0"
      },
      "execution_count": null,
      "outputs": []
    },
    {
      "cell_type": "code",
      "source": [
        "def ans_q(faq_dict, ques):\n",
        "  return faq_dict.get(ques, \"sorry, i cant answer this now\")"
      ],
      "metadata": {
        "id": "f8ctTkxJtIWh"
      },
      "execution_count": null,
      "outputs": []
    },
    {
      "cell_type": "code",
      "source": [
        "def faq_helper():\n",
        "  print(\"Welcome to the AI powered FAQ helper!\")\n",
        "  while True:\n",
        "    list_faqs(faq_data)\n",
        "    user_input = input(\"\\nEnter the question exactly or hit type 'exit to quit:\")\n",
        "    if user_input.lower() == \"exit\":\n",
        "      print(\"Goodbye\")\n",
        "      break\n",
        "    answer = ans_q(faq_data, user_input)\n",
        "    print(\"\\nAnswer:\",answer)\n",
        "    print(\"-\"*40)\n",
        "# faq_helper()"
      ],
      "metadata": {
        "colab": {
          "base_uri": "https://localhost:8080/"
        },
        "collapsed": true,
        "id": "CTNzxhrit6DT",
        "outputId": "8da5c555-0d59-477c-a299-4161a0419611"
      },
      "execution_count": null,
      "outputs": [
        {
          "output_type": "stream",
          "name": "stdout",
          "text": [
            "Welcome to the AI powered FAQ helper!\n",
            "Available FAQ\n",
            "1. How to open a Bank Account?\n",
            "2. How to withdraw money?\n",
            "3. How to Transfer Money\n",
            "\n",
            "Enter the question exactly or hit type 'exit to quit:How to open a Bank Account?\n",
            "\n",
            "Answer: Visit nearest branch\n",
            "----------------------------------------\n",
            "Available FAQ\n",
            "1. How to open a Bank Account?\n",
            "2. How to withdraw money?\n",
            "3. How to Transfer Money\n",
            "\n",
            "Enter the question exactly or hit type 'exit to quit:exit\n",
            "Goodbye\n"
          ]
        }
      ]
    }
  ]
}